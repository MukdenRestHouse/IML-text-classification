{
 "cells": [
  {
   "cell_type": "markdown",
   "metadata": {},
   "source": [
    "## Utils"
   ]
  },
  {
   "cell_type": "code",
   "execution_count": 14,
   "metadata": {},
   "outputs": [],
   "source": [
    "import requests\n",
    "from collections import defaultdict\n",
    "import time\n",
    "from tqdm import tqdm\n",
    "from urllib.parse import urlparse, urljoin, quote, unquote\n",
    "from bs4 import BeautifulSoup\n",
    "from IPython.display import display, HTML\n",
    "import re\n",
    "import json\n",
    "import pandas as pd"
   ]
  },
  {
   "cell_type": "code",
   "execution_count": 15,
   "metadata": {},
   "outputs": [],
   "source": [
    "headers = {\n",
    "    'Accept': 'application/json, text/plain, */*',\n",
    "    'Accept-Encoding': 'gzip, deflate, br',\n",
    "    'Accept-Language': 'zh-CN,zh;q=0.9,en;q=0.8',\n",
    "    'Cache-Control': 'no-cache',\n",
    "    'Cookie': '__ac_signature=_02B4Z6wo00f01T-HHugAAIDBye4Xzinnji0.oxpAACpTqwwjWLMk6bYzWLq1LtKuCxyf4JBnFhutjSfOO-1Qwkfs5Eb6UA8XRbArPLn.ajpzuokeM02jg7MPo5ir-aX2DB0df2hc905oNieXe5; tt_webid=7327711223528130098; s_v_web_id=verify_lrs19dzr_i4Jc90TD_didi_4mhT_BZkT_cm5gJMydzolH; _ga=GA1.1.848224349.1706115740; local_city_cache=%E4%B8%8A%E6%B5%B7; csrftoken=26facb13840df006a807db7e3ea11d29; ttwid=1%7Cazraq8pdkWUY8Ds9vKuJnhFIhIfGydiRMFf9Xz8APqc%7C1706122494%7C90cabbf85e4a3ed64c09b0ae4187c86258094d03f47e2faa3a35e84d4f29215a; msToken=0z-fD5Xct0ueqSdAN_ZNDQVuRxTH0fA7G2DCAOz_KkB7FKqzd-ctdgEfBoJQhaBxcMYGUVm2H4QmZjcVJOzlzfxjcU9gGi_c39kcD_dL; tt_scid=I0CVS8GgcoEBAmjZ9d9LSONDV1qQgLfy9nFmCycmrQ0YFSlLMU9Uv6g83X.JfBGuf46b; _ga_QEHZPBE5HH=GS1.1.1706147225.3.1.1706147291.0.0.0',\n",
    "    'Pragma': 'no-cache',\n",
    "    'Referer': 'https://www.toutiao.com/',\n",
    "    'Sec-Ch-Ua': '\"Not_A Brand\";v=\"8\", \"Chromium\";v=\"120\", \"Microsoft Edge\";v=\"120\"',\n",
    "    'Sec-Ch-Ua-Mobile': '?0',\n",
    "    'Sec-Ch-Ua-Platform': '\"Windows\"',\n",
    "    'Sec-Fetch-Dest': 'empty',\n",
    "    'Sec-Fetch-Mode': 'cors',\n",
    "    'Sec-Fetch-Site': 'same-origin',\n",
    "    'User-Agent': 'Mozilla/5.0 (Windows NT 10.0; Win64; x64) AppleWebKit/537.36 (KHTML, like Gecko) Chrome/120.0.0.0 Safari/537.36 Edg/120.0.0.0'\n",
    "}"
   ]
  },
  {
   "cell_type": "code",
   "execution_count": 20,
   "metadata": {},
   "outputs": [],
   "source": [
    "channel_ids = {\n",
    "\n",
    "  '财经': 3189399007,\n",
    "\n",
    "  '科技': 3189398999,\n",
    "\n",
    "  '热点': 3189398996,\n",
    "\n",
    "  '国际': 3189398968,\n",
    "\n",
    "  '军事': 3189398960,\n",
    "\n",
    "  '体育': 3189398957,\n",
    "\n",
    "  '娱乐': 3189398972,\n",
    "\n",
    "  '历史': 3189398965,\n",
    "\n",
    "  '美食': 3189399002,\n",
    "\n",
    "  '游戏': 3189398995,\n",
    "\n",
    "  '旅游': 3189398983,\n",
    "\n",
    "  '养生': 3189398959,\n",
    "\n",
    "  '时尚': 3189398984,\n",
    "\n",
    "  '育儿': 3189399004,\n",
    "\n",
    "}"
   ]
  },
  {
   "cell_type": "markdown",
   "metadata": {},
   "source": [
    "## Get Article List"
   ]
  },
  {
   "cell_type": "code",
   "execution_count": 17,
   "metadata": {},
   "outputs": [],
   "source": [
    "dataset = defaultdict(list)"
   ]
  },
  {
   "cell_type": "code",
   "execution_count": 48,
   "metadata": {},
   "outputs": [
    {
     "name": "stdout",
     "output_type": "stream",
     "text": [
      "国际 167 []\r"
     ]
    }
   ],
   "source": [
    "count = 500\n",
    "max_behot_time = 1706184766  \n",
    "\n",
    "try:\n",
    "    while True:\n",
    "        for channel in channel_ids:\n",
    "            if len(dataset[channel]) < count:\n",
    "                res_json = requests.get(f'https://www.toutiao.com/api/pc/list/feed?channel_id={channel_ids[channel]}&category=pc_profile_channel', headers=headers).json()\n",
    "                dataset[channel] += res_json['data']\n",
    "                print(channel, len(dataset[channel]), [item['title'] for item in res_json['data']], end='\\r')\n",
    "\n",
    "        \n",
    "        if all(len(dataset[channel]) >= count for channel in channel_ids):\n",
    "            break\n",
    "        \n",
    "        max_behot_time -= len(dataset) // 10\n",
    "\n",
    "except KeyboardInterrupt:\n",
    "    pass"
   ]
  },
  {
   "cell_type": "code",
   "execution_count": 49,
   "metadata": {},
   "outputs": [
    {
     "data": {
      "text/html": [
       "<div>\n",
       "<style scoped>\n",
       "    .dataframe tbody tr th:only-of-type {\n",
       "        vertical-align: middle;\n",
       "    }\n",
       "\n",
       "    .dataframe tbody tr th {\n",
       "        vertical-align: top;\n",
       "    }\n",
       "\n",
       "    .dataframe thead th {\n",
       "        text-align: right;\n",
       "    }\n",
       "</style>\n",
       "<table border=\"1\" class=\"dataframe\">\n",
       "  <thead>\n",
       "    <tr style=\"text-align: right;\">\n",
       "      <th></th>\n",
       "      <th>title</th>\n",
       "      <th>url</th>\n",
       "      <th>category</th>\n",
       "    </tr>\n",
       "  </thead>\n",
       "  <tbody>\n",
       "    <tr>\n",
       "      <th>0</th>\n",
       "      <td>预制板房或将“全面拆除”？新规之下一切都变了,2种方式安置居民</td>\n",
       "      <td>https://www.toutiao.com/article/73268338630646...</td>\n",
       "      <td>财经</td>\n",
       "    </tr>\n",
       "    <tr>\n",
       "      <th>1</th>\n",
       "      <td>从七人屠宰队到如今员工三万人！周连奎和他的新程金锣！</td>\n",
       "      <td>https://www.toutiao.com/article/73272141988601...</td>\n",
       "      <td>财经</td>\n",
       "    </tr>\n",
       "    <tr>\n",
       "      <th>2</th>\n",
       "      <td>股票起飞前，“MACD”都会出现这样的特征：一旦遇到，果断满仓干</td>\n",
       "      <td>https://www.toutiao.com/article/73279525678524...</td>\n",
       "      <td>财经</td>\n",
       "    </tr>\n",
       "    <tr>\n",
       "      <th>3</th>\n",
       "      <td>太原各大汽车客运站车辆已全部停运</td>\n",
       "      <td>https://www.toutiao.com/article/73257044033175...</td>\n",
       "      <td>财经</td>\n",
       "    </tr>\n",
       "    <tr>\n",
       "      <th>4</th>\n",
       "      <td>A股：太漂亮了，八年一轮回，这轮牛市有多大？</td>\n",
       "      <td>https://www.toutiao.com/article/73280187160362...</td>\n",
       "      <td>财经</td>\n",
       "    </tr>\n",
       "    <tr>\n",
       "      <th>...</th>\n",
       "      <td>...</td>\n",
       "      <td>...</td>\n",
       "      <td>...</td>\n",
       "    </tr>\n",
       "    <tr>\n",
       "      <th>6945</th>\n",
       "      <td>Fendi 芬迪2024春夏高级定制时装秀</td>\n",
       "      <td>https://www.toutiao.com/article/73282363380869...</td>\n",
       "      <td>时尚</td>\n",
       "    </tr>\n",
       "    <tr>\n",
       "      <th>6946</th>\n",
       "      <td>小姐姐锁骨彩色纹身清洗记录，沉浸式解压洗纹身</td>\n",
       "      <td>https://www.toutiao.com/article/73282771092930...</td>\n",
       "      <td>时尚</td>\n",
       "    </tr>\n",
       "    <tr>\n",
       "      <th>6947</th>\n",
       "      <td>我马上就做95这就95骗你，我马上弄96 其实是</td>\n",
       "      <td>https://www.toutiao.com/article/73282856991642...</td>\n",
       "      <td>时尚</td>\n",
       "    </tr>\n",
       "    <tr>\n",
       "      <th>6948</th>\n",
       "      <td>福气满满过龙年，天津陆家嘴年货节开始啦～#天津陆家嘴 #年货节</td>\n",
       "      <td>https://www.toutiao.com/article/73282677278592...</td>\n",
       "      <td>时尚</td>\n",
       "    </tr>\n",
       "    <tr>\n",
       "      <th>6949</th>\n",
       "      <td>晚上好各位宝宝们，给客户调理反馈，路过宝宝们帮我点一下赞</td>\n",
       "      <td>https://www.toutiao.com/article/73280406883298...</td>\n",
       "      <td>时尚</td>\n",
       "    </tr>\n",
       "  </tbody>\n",
       "</table>\n",
       "<p>6950 rows × 3 columns</p>\n",
       "</div>"
      ],
      "text/plain": [
       "                                 title  \\\n",
       "0      预制板房或将“全面拆除”？新规之下一切都变了,2种方式安置居民   \n",
       "1           从七人屠宰队到如今员工三万人！周连奎和他的新程金锣！   \n",
       "2     股票起飞前，“MACD”都会出现这样的特征：一旦遇到，果断满仓干   \n",
       "3                     太原各大汽车客运站车辆已全部停运   \n",
       "4               A股：太漂亮了，八年一轮回，这轮牛市有多大？   \n",
       "...                                ...   \n",
       "6945             Fendi 芬迪2024春夏高级定制时装秀   \n",
       "6946            小姐姐锁骨彩色纹身清洗记录，沉浸式解压洗纹身   \n",
       "6947          我马上就做95这就95骗你，我马上弄96 其实是   \n",
       "6948   福气满满过龙年，天津陆家嘴年货节开始啦～#天津陆家嘴 #年货节   \n",
       "6949      晚上好各位宝宝们，给客户调理反馈，路过宝宝们帮我点一下赞   \n",
       "\n",
       "                                                    url category  \n",
       "0     https://www.toutiao.com/article/73268338630646...       财经  \n",
       "1     https://www.toutiao.com/article/73272141988601...       财经  \n",
       "2     https://www.toutiao.com/article/73279525678524...       财经  \n",
       "3     https://www.toutiao.com/article/73257044033175...       财经  \n",
       "4     https://www.toutiao.com/article/73280187160362...       财经  \n",
       "...                                                 ...      ...  \n",
       "6945  https://www.toutiao.com/article/73282363380869...       时尚  \n",
       "6946  https://www.toutiao.com/article/73282771092930...       时尚  \n",
       "6947  https://www.toutiao.com/article/73282856991642...       时尚  \n",
       "6948  https://www.toutiao.com/article/73282677278592...       时尚  \n",
       "6949  https://www.toutiao.com/article/73280406883298...       时尚  \n",
       "\n",
       "[6950 rows x 3 columns]"
      ]
     },
     "execution_count": 49,
     "metadata": {},
     "output_type": "execute_result"
    }
   ],
   "source": [
    "df = pd.concat([\n",
    "    pd.DataFrame(dataset[channel])[['title', 'url']].assign(category=channel)\n",
    "    for channel in channel_ids.keys()\n",
    "]).drop_duplicates(subset=['url']).dropna()\n",
    "df = df[df['url'].str.contains('toutiao.com/group')].reset_index(drop=True)\n",
    "df['url'] = df['url'].str.replace('https://toutiao.com/group/', 'https://www.toutiao.com/article/', regex=False)\n",
    "df"
   ]
  },
  {
   "cell_type": "markdown",
   "metadata": {},
   "source": [
    "## Get Article Text"
   ]
  },
  {
   "cell_type": "code",
   "execution_count": 50,
   "metadata": {},
   "outputs": [],
   "source": [
    "df['text'] = None"
   ]
  },
  {
   "cell_type": "code",
   "execution_count": 51,
   "metadata": {},
   "outputs": [
    {
     "name": "stderr",
     "output_type": "stream",
     "text": [
      "100%|██████████| 6950/6950 [1:24:07<00:00,  1.38it/s]\n"
     ]
    }
   ],
   "source": [
    "for i in tqdm(range(len(df))):\n",
    "    if df.loc[i, 'text'] != None:\n",
    "        continue\n",
    "    article_url = df.loc[i, 'url']\n",
    "    try:\n",
    "        article_res = requests.get(article_url, headers=headers)\n",
    "        soup = BeautifulSoup(article_res.text)\n",
    "        article_content = soup.find('div', class_='article-content')\n",
    "        df.loc[i, 'text'] = article_content.get_text(separator='\\n')\n",
    "    except:\n",
    "        continue"
   ]
  },
  {
   "cell_type": "code",
   "execution_count": 40,
   "metadata": {},
   "outputs": [],
   "source": [
    "df = df[~df['text'].isnull()].reset_index(drop=True)\n",
    "df.to_csv('toutiao.csv')"
   ]
  }
 ],
 "metadata": {
  "kernelspec": {
   "display_name": "base",
   "language": "python",
   "name": "python3"
  },
  "language_info": {
   "codemirror_mode": {
    "name": "ipython",
    "version": 3
   },
   "file_extension": ".py",
   "mimetype": "text/x-python",
   "name": "python",
   "nbconvert_exporter": "python",
   "pygments_lexer": "ipython3",
   "version": "3.9.17"
  },
  "orig_nbformat": 4
 },
 "nbformat": 4,
 "nbformat_minor": 2
}
