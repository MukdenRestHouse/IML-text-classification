{
 "cells": [
  {
   "cell_type": "code",
   "execution_count": 3,
   "metadata": {},
   "outputs": [],
   "source": [
    "import pandas as pd\n",
    "import numpy as np\n",
    "import jieba\n",
    "import jieba.posseg as pseg\n",
    "import os"
   ]
  },
  {
   "cell_type": "code",
   "execution_count": 4,
   "metadata": {},
   "outputs": [],
   "source": [
    "raw = pd.read_csv('toutiao.csv')\n",
    "#tittle = raw.iloc[:,0]\n",
    "#print(raw.iloc[:,0])\n"
   ]
  },
  {
   "cell_type": "code",
   "execution_count": 47,
   "metadata": {},
   "outputs": [
    {
     "name": "stdout",
     "output_type": "stream",
     "text": [
      "{'财经': 0, '科技': 1, '热点': 2, '国际': 3, '军事': 4, '体育': 5, '娱乐': 6, '历史': 7, '美食': 8, '游戏': 9, '旅游': 10, '养生': 11, '时尚': 12, '育儿': 13}\n"
     ]
    }
   ],
   "source": [
    "#catrgory\n",
    "cc = raw.iloc[:,2]\n",
    "listt = []\n",
    "cate = open(\"categroy.txt\", mode = 'w')\n",
    "for i in cc:\n",
    "    if i not in listt:\n",
    "        listt.append(i)\n",
    "#print(listt)\n",
    "dic = {}\n",
    "for i in range(len(listt)):\n",
    "    dic[listt[i]] = i\n",
    "print(dic)\n",
    "\n",
    "for i in range(len(cc)):\n",
    "    cate.write(str(dic[cc[i]]))\n",
    "    if i != len(cc) - 1:\n",
    "        cate.write('\\n')\n",
    "    \n",
    "cate.close()"
   ]
  },
  {
   "cell_type": "code",
   "execution_count": 48,
   "metadata": {},
   "outputs": [],
   "source": [
    "#jieba 分词去除标点\n",
    "text = raw.iloc[:,3]\n",
    "t_text = open('text.txt', mode = 'w')\n",
    "for i in range(len(text)):\n",
    "    text[i] = text[i].replace(\"\\n\", \"\")\n",
    "    cut = pseg.cut(text[i])\n",
    "    cutt = []\n",
    "    for w in cut:\n",
    "        if w.flag != 'x':\n",
    "            cutt.append(w.word)\n",
    "    t_text.write(\" \".join(cutt))\n",
    "    if i != len(text) -1:\n",
    "        t_text.write('\\n')\n",
    "\n",
    "t_text.close()"
   ]
  },
  {
   "cell_type": "code",
   "execution_count": 1,
   "metadata": {},
   "outputs": [],
   "source": [
    "#分词之后的效果\n",
    "#t_text = open('text.txt')\n",
    "#print(t_text.read())\n",
    "#t_text.close()"
   ]
  },
  {
   "cell_type": "code",
   "execution_count": 50,
   "metadata": {},
   "outputs": [],
   "source": [
    "#测试集\n",
    "raw = pd.read_csv('new.csv')\n",
    "#tittle = raw.iloc[:,4]\n",
    "#print(tittle)"
   ]
  },
  {
   "cell_type": "code",
   "execution_count": 56,
   "metadata": {},
   "outputs": [
    {
     "name": "stdout",
     "output_type": "stream",
     "text": [
      "['财经', '科技', '热点', '国际', '军事', '体育', '娱乐', '历史', '美食', '游戏', '旅游', '养生', '时尚', '育儿']\n",
      "{'财经': 0, '科技': 1, '热点': 2, '国际': 3, '军事': 4, '体育': 5, '娱乐': 6, '历史': 7, '美食': 8, '游戏': 9, '旅游': 10, '养生': 11, '时尚': 12, '育儿': 13}\n"
     ]
    }
   ],
   "source": [
    "#分类与训练集相同\n",
    "cc = raw.iloc[:,3]\n",
    "#print(cc)\n",
    "listt = []\n",
    "cate = open(\"ner_cate.txt\", mode = 'w')\n",
    "for i in cc:\n",
    "    if i not in listt:\n",
    "        listt.append(i)\n",
    "print(listt)\n",
    "dic = {}\n",
    "for i in range(len(listt)):\n",
    "    dic[listt[i]] = i\n",
    "print(dic)\n",
    "for i in range(len(cc)):\n",
    "    cate.write(str(dic[cc[i]]))\n",
    "    if i != len(cc) - 1:\n",
    "        cate.write('\\n')\n",
    "cate.close()"
   ]
  },
  {
   "cell_type": "code",
   "execution_count": 52,
   "metadata": {},
   "outputs": [
    {
     "name": "stderr",
     "output_type": "stream",
     "text": [
      "C:\\Users\\Leo\\AppData\\Local\\Temp\\ipykernel_37456\\2450093830.py:5: SettingWithCopyWarning: \n",
      "A value is trying to be set on a copy of a slice from a DataFrame\n",
      "\n",
      "See the caveats in the documentation: https://pandas.pydata.org/pandas-docs/stable/user_guide/indexing.html#returning-a-view-versus-a-copy\n",
      "  text[i] = text[i].replace(\"\\n\", \"\")\n"
     ]
    }
   ],
   "source": [
    "#jieba分词去除标点\n",
    "text = raw.iloc[:,4]\n",
    "t_text = open('new_text.txt', mode = 'w')\n",
    "for i in range(len(text)):\n",
    "    text[i] = text[i].replace(\"\\n\", \"\")\n",
    "    cut = pseg.cut(text[i])\n",
    "    cutt = []\n",
    "    for w in cut:\n",
    "        if w.flag != 'x':\n",
    "            cutt.append(w.word)\n",
    "    t_text.write(\" \".join(cutt))\n",
    "    if i != len(text) - 1:\n",
    "        t_text.write('\\n')\n",
    "\n",
    "t_text.close()"
   ]
  },
  {
   "cell_type": "code",
   "execution_count": 5,
   "metadata": {},
   "outputs": [],
   "source": [
    "#百度停用词表\n",
    "stopword = open('baidu_stopwords.txt')\n",
    "stopwords = stopword.read().split('\\n')\n",
    "#print(stopwords)\n",
    "#print(\"不\" not in stopwords)"
   ]
  },
  {
   "cell_type": "code",
   "execution_count": 54,
   "metadata": {},
   "outputs": [],
   "source": [
    "#训练集+停用词\n",
    "raw = pd.read_csv('toutiao.csv')\n",
    "text = raw.iloc[:,3]\n",
    "t_text = open('text_stopwords.txt', mode = 'w')\n",
    "stopword = open('baidu_stopwords.txt')\n",
    "stopwords = stopword.read().split('\\n')\n",
    "for i in range(len(text)):\n",
    "    text[i] = text[i].replace(\"\\n\", \"\")\n",
    "    cut = pseg.cut(text[i])\n",
    "    cutt = []\n",
    "    for w in cut:\n",
    "        if w.flag != 'x' and w.word not in stopwords:\n",
    "            cutt.append(w.word)\n",
    "    t_text.write(\" \".join(cutt))\n",
    "    if i != len(text) - 1:\n",
    "        t_text.write('\\n')\n",
    "\n",
    "t_text.close()"
   ]
  },
  {
   "cell_type": "code",
   "execution_count": 55,
   "metadata": {},
   "outputs": [
    {
     "name": "stderr",
     "output_type": "stream",
     "text": [
      "C:\\Users\\Leo\\AppData\\Local\\Temp\\ipykernel_37456\\4136257581.py:8: SettingWithCopyWarning: \n",
      "A value is trying to be set on a copy of a slice from a DataFrame\n",
      "\n",
      "See the caveats in the documentation: https://pandas.pydata.org/pandas-docs/stable/user_guide/indexing.html#returning-a-view-versus-a-copy\n",
      "  text[i] = text[i].replace(\"\\n\", \"\")\n"
     ]
    }
   ],
   "source": [
    "#测试集+停用词\n",
    "raw = pd.read_csv('new.csv')\n",
    "text = raw.iloc[:,4]\n",
    "t_text = open('new_text_stopwords.txt', mode = 'w')\n",
    "stopword = open('baidu_stopwords.txt')\n",
    "stopwords = stopword.read().split('\\n')\n",
    "for i in range(len(text)):\n",
    "    text[i] = text[i].replace(\"\\n\", \"\")\n",
    "    cut = pseg.cut(text[i])\n",
    "    cutt = []\n",
    "    for w in cut:\n",
    "        if w.flag != 'x' and w.word not in stopwords:\n",
    "            cutt.append(w.word)\n",
    "    t_text.write(\" \".join(cutt))\n",
    "    if i != len(text) - 1:\n",
    "        t_text.write('\\n')\n",
    "\n",
    "t_text.close()"
   ]
  }
 ],
 "metadata": {
  "kernelspec": {
   "display_name": "base",
   "language": "python",
   "name": "python3"
  },
  "language_info": {
   "codemirror_mode": {
    "name": "ipython",
    "version": 3
   },
   "file_extension": ".py",
   "mimetype": "text/x-python",
   "name": "python",
   "nbconvert_exporter": "python",
   "pygments_lexer": "ipython3",
   "version": "3.8.18"
  }
 },
 "nbformat": 4,
 "nbformat_minor": 2
}
